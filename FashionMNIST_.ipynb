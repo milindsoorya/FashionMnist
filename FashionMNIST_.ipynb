{
  "nbformat": 4,
  "nbformat_minor": 5,
  "metadata": {
    "kernelspec": {
      "display_name": "Python 3",
      "language": "python",
      "name": "python3"
    },
    "language_info": {
      "codemirror_mode": {
        "name": "ipython",
        "version": 3
      },
      "file_extension": ".py",
      "mimetype": "text/x-python",
      "name": "python",
      "nbconvert_exporter": "python",
      "pygments_lexer": "ipython3",
      "version": "3.8.5"
    },
    "colab": {
      "name": "FashionMNIST .ipynb",
      "provenance": [],
      "collapsed_sections": [],
      "include_colab_link": true
    },
    "accelerator": "GPU"
  },
  "cells": [
    {
      "cell_type": "markdown",
      "metadata": {
        "id": "view-in-github",
        "colab_type": "text"
      },
      "source": [
        "<a href=\"https://colab.research.google.com/github/milindsoorya/FashionMnist/blob/main/FashionMNIST_.ipynb\" target=\"_parent\"><img src=\"https://colab.research.google.com/assets/colab-badge.svg\" alt=\"Open In Colab\"/></a>"
      ]
    },
    {
      "cell_type": "markdown",
      "metadata": {
        "id": "78794cab"
      },
      "source": [
        "# Working with data"
      ],
      "id": "78794cab"
    },
    {
      "cell_type": "code",
      "metadata": {
        "id": "566fbe77"
      },
      "source": [
        "import torch\n",
        "from torch import nn\n",
        "from torch.utils.data import DataLoader\n",
        "from torchvision import datasets\n",
        "from torchvision.transforms import ToTensor, Lambda, Compose\n",
        "import matplotlib.pyplot as plt"
      ],
      "id": "566fbe77",
      "execution_count": 12,
      "outputs": []
    },
    {
      "cell_type": "code",
      "metadata": {
        "id": "5fd556b1"
      },
      "source": [
        "# Download training data from open datasets.\n",
        "training_data = datasets.FashionMNIST(\n",
        "    root=\"data\",\n",
        "    train=True,\n",
        "    download=True,\n",
        "    transform=ToTensor(),\n",
        ")\n",
        "\n",
        "# Download test data from open datasets.\n",
        "test_data = datasets.FashionMNIST(\n",
        "    root=\"data\",\n",
        "    train=False,\n",
        "    download=True,\n",
        "    transform=ToTensor(),\n",
        ")"
      ],
      "id": "5fd556b1",
      "execution_count": 13,
      "outputs": []
    },
    {
      "cell_type": "code",
      "metadata": {
        "colab": {
          "base_uri": "https://localhost:8080/"
        },
        "id": "65cadbed",
        "outputId": "a8553c5a-4db4-47d8-db14-8a041d0e259d"
      },
      "source": [
        "batch_size = 64\n",
        "\n",
        "# Create data loaders.\n",
        "train_dataloader = DataLoader(training_data, batch_size=batch_size)\n",
        "test_dataloader = DataLoader(test_data, batch_size=batch_size)\n",
        "\n",
        "for X, y in test_dataloader:\n",
        "    print(\"Shape of X [N, C, H, W]: \", X.shape)\n",
        "    print(\"Shape of y: \", y.shape, y.dtype)\n",
        "    break"
      ],
      "id": "65cadbed",
      "execution_count": 14,
      "outputs": [
        {
          "output_type": "stream",
          "text": [
            "Shape of X [N, C, H, W]:  torch.Size([64, 1, 28, 28])\n",
            "Shape of y:  torch.Size([64]) torch.int64\n"
          ],
          "name": "stdout"
        }
      ]
    },
    {
      "cell_type": "markdown",
      "metadata": {
        "id": "4344ab57"
      },
      "source": [
        "# Creating Models"
      ],
      "id": "4344ab57"
    },
    {
      "cell_type": "code",
      "metadata": {
        "colab": {
          "base_uri": "https://localhost:8080/"
        },
        "id": "dc6a9609",
        "outputId": "44c641fa-a926-4ee5-f739-52936fdddaf2"
      },
      "source": [
        "# Get cpu or gpu device for training.\n",
        "device = \"cuda\" if torch.cuda.is_available() else \"cpu\"\n",
        "print(\"Using {} device\".format(device))\n",
        "\n",
        "# Define model\n",
        "class NeuralNetwork(nn.Module):\n",
        "    def __init__(self):\n",
        "        super(NeuralNetwork, self).__init__()\n",
        "        self.flatten = nn.Flatten()\n",
        "        self.linear_relu_stack = nn.Sequential(\n",
        "            nn.Linear(28*28, 512),\n",
        "            nn.ReLU(),\n",
        "            nn.Linear(512, 512),\n",
        "            nn.ReLU(),\n",
        "            nn.Linear(512, 10),\n",
        "            nn.ReLU()\n",
        "        )\n",
        "\n",
        "    def forward(self, x):\n",
        "        x = self.flatten(x)\n",
        "        logits = self.linear_relu_stack(x)\n",
        "        return logits\n",
        "\n",
        "model = NeuralNetwork().to(device)\n",
        "print(model)"
      ],
      "id": "dc6a9609",
      "execution_count": 15,
      "outputs": [
        {
          "output_type": "stream",
          "text": [
            "Using cuda device\n",
            "NeuralNetwork(\n",
            "  (flatten): Flatten(start_dim=1, end_dim=-1)\n",
            "  (linear_relu_stack): Sequential(\n",
            "    (0): Linear(in_features=784, out_features=512, bias=True)\n",
            "    (1): ReLU()\n",
            "    (2): Linear(in_features=512, out_features=512, bias=True)\n",
            "    (3): ReLU()\n",
            "    (4): Linear(in_features=512, out_features=10, bias=True)\n",
            "    (5): ReLU()\n",
            "  )\n",
            ")\n"
          ],
          "name": "stdout"
        }
      ]
    },
    {
      "cell_type": "markdown",
      "metadata": {
        "id": "b02d38c9"
      },
      "source": [
        "# Optimizing the Model Parameters"
      ],
      "id": "b02d38c9"
    },
    {
      "cell_type": "code",
      "metadata": {
        "id": "7953a601"
      },
      "source": [
        "loss_fn = nn.CrossEntropyLoss()\n",
        "optimizer = torch.optim.SGD(model.parameters(), lr=1e-3)"
      ],
      "id": "7953a601",
      "execution_count": 16,
      "outputs": []
    },
    {
      "cell_type": "code",
      "metadata": {
        "id": "535273da"
      },
      "source": [
        "def train(dataloader, model, loss_fn, optimizer):\n",
        "    size = len(dataloader.dataset)\n",
        "    for batch, (X, y) in enumerate(dataloader):\n",
        "        X, y = X.to(device), y.to(device)\n",
        "\n",
        "        # Compute prediction error\n",
        "        pred = model(X)\n",
        "        loss = loss_fn(pred, y)\n",
        "\n",
        "        # Backpropagation\n",
        "        optimizer.zero_grad()\n",
        "        loss.backward()\n",
        "        optimizer.step()\n",
        "\n",
        "        if batch % 100 == 0:\n",
        "            loss, current = loss.item(), batch * len(X)\n",
        "            print(f\"loss: {loss:>7f}  [{current:>5d}/{size:>5d}]\")"
      ],
      "id": "535273da",
      "execution_count": 17,
      "outputs": []
    },
    {
      "cell_type": "code",
      "metadata": {
        "id": "9927220d"
      },
      "source": [
        "def test(dataloader, model):\n",
        "    size = len(dataloader.dataset)\n",
        "    model.eval()\n",
        "    test_loss, correct = 0, 0\n",
        "    with torch.no_grad():\n",
        "        for X, y in dataloader:\n",
        "            X, y = X.to(device), y.to(device)\n",
        "            pred = model(X)\n",
        "            test_loss += loss_fn(pred, y).item()\n",
        "            correct += (pred.argmax(1) == y).type(torch.float).sum().item()\n",
        "    test_loss /= size\n",
        "    correct /= size\n",
        "    print(f\"Test Error: \\n Accuracy: {(100*correct):>0.1f}%, Avg loss: {test_loss:>8f} \\n\")"
      ],
      "id": "9927220d",
      "execution_count": 18,
      "outputs": []
    },
    {
      "cell_type": "code",
      "metadata": {
        "colab": {
          "base_uri": "https://localhost:8080/"
        },
        "id": "6e7c9833",
        "outputId": "e3a19f06-0534-4ec6-877a-996fc73fa8dd"
      },
      "source": [
        "epochs = 10\n",
        "for t in range(epochs):\n",
        "    print(f\"Epoch {t+1}\\n-------------------------------\")\n",
        "    train(train_dataloader, model, loss_fn, optimizer)\n",
        "    test(test_dataloader, model)\n",
        "print(\"Done!\")"
      ],
      "id": "6e7c9833",
      "execution_count": 19,
      "outputs": [
        {
          "output_type": "stream",
          "text": [
            "Epoch 1\n",
            "-------------------------------\n",
            "loss: 2.306121  [    0/60000]\n",
            "loss: 2.296528  [ 6400/60000]\n",
            "loss: 2.293709  [12800/60000]\n",
            "loss: 2.296563  [19200/60000]\n",
            "loss: 2.285335  [25600/60000]\n",
            "loss: 2.285137  [32000/60000]\n",
            "loss: 2.277428  [38400/60000]\n",
            "loss: 2.272024  [44800/60000]\n",
            "loss: 2.276269  [51200/60000]\n",
            "loss: 2.277554  [57600/60000]\n",
            "Test Error: \n",
            " Accuracy: 26.9%, Avg loss: 0.035525 \n",
            "\n",
            "Epoch 2\n",
            "-------------------------------\n",
            "loss: 2.259277  [    0/60000]\n",
            "loss: 2.259792  [ 6400/60000]\n",
            "loss: 2.258568  [12800/60000]\n",
            "loss: 2.273997  [19200/60000]\n",
            "loss: 2.245734  [25600/60000]\n",
            "loss: 2.251393  [32000/60000]\n",
            "loss: 2.237352  [38400/60000]\n",
            "loss: 2.228799  [44800/60000]\n",
            "loss: 2.243428  [51200/60000]\n",
            "loss: 2.249145  [57600/60000]\n",
            "Test Error: \n",
            " Accuracy: 27.5%, Avg loss: 0.034838 \n",
            "\n",
            "Epoch 3\n",
            "-------------------------------\n",
            "loss: 2.212939  [    0/60000]\n",
            "loss: 2.213053  [ 6400/60000]\n",
            "loss: 2.215231  [12800/60000]\n",
            "loss: 2.242829  [19200/60000]\n",
            "loss: 2.193666  [25600/60000]\n",
            "loss: 2.211210  [32000/60000]\n",
            "loss: 2.187718  [38400/60000]\n",
            "loss: 2.177286  [44800/60000]\n",
            "loss: 2.203964  [51200/60000]\n",
            "loss: 2.215523  [57600/60000]\n",
            "Test Error: \n",
            " Accuracy: 27.7%, Avg loss: 0.033986 \n",
            "\n",
            "Epoch 4\n",
            "-------------------------------\n",
            "loss: 2.159032  [    0/60000]\n",
            "loss: 2.154727  [ 6400/60000]\n",
            "loss: 2.161024  [12800/60000]\n",
            "loss: 2.202061  [19200/60000]\n",
            "loss: 2.134728  [25600/60000]\n",
            "loss: 2.165647  [32000/60000]\n",
            "loss: 2.132996  [38400/60000]\n",
            "loss: 2.120499  [44800/60000]\n",
            "loss: 2.161092  [51200/60000]\n",
            "loss: 2.180495  [57600/60000]\n",
            "Test Error: \n",
            " Accuracy: 27.9%, Avg loss: 0.033070 \n",
            "\n",
            "Epoch 5\n",
            "-------------------------------\n",
            "loss: 2.101573  [    0/60000]\n",
            "loss: 2.093868  [ 6400/60000]\n",
            "loss: 2.102518  [12800/60000]\n",
            "loss: 2.155857  [19200/60000]\n",
            "loss: 2.079578  [25600/60000]\n",
            "loss: 2.117859  [32000/60000]\n",
            "loss: 2.081300  [38400/60000]\n",
            "loss: 2.066448  [44800/60000]\n",
            "loss: 2.116590  [51200/60000]\n",
            "loss: 2.145435  [57600/60000]\n",
            "Test Error: \n",
            " Accuracy: 28.2%, Avg loss: 0.032184 \n",
            "\n",
            "Epoch 6\n",
            "-------------------------------\n",
            "loss: 2.045432  [    0/60000]\n",
            "loss: 2.036476  [ 6400/60000]\n",
            "loss: 2.044224  [12800/60000]\n",
            "loss: 2.107912  [19200/60000]\n",
            "loss: 2.029828  [25600/60000]\n",
            "loss: 2.070396  [32000/60000]\n",
            "loss: 2.034675  [38400/60000]\n",
            "loss: 2.018878  [44800/60000]\n",
            "loss: 2.073182  [51200/60000]\n",
            "loss: 2.110585  [57600/60000]\n",
            "Test Error: \n",
            " Accuracy: 28.3%, Avg loss: 0.031361 \n",
            "\n",
            "Epoch 7\n",
            "-------------------------------\n",
            "loss: 1.992669  [    0/60000]\n",
            "loss: 1.984169  [ 6400/60000]\n",
            "loss: 1.989433  [12800/60000]\n",
            "loss: 2.061728  [19200/60000]\n",
            "loss: 1.980874  [25600/60000]\n",
            "loss: 2.026338  [32000/60000]\n",
            "loss: 1.991314  [38400/60000]\n",
            "loss: 1.978009  [44800/60000]\n",
            "loss: 2.027718  [51200/60000]\n",
            "loss: 2.079968  [57600/60000]\n",
            "Test Error: \n",
            " Accuracy: 29.3%, Avg loss: 0.030596 \n",
            "\n",
            "Epoch 8\n",
            "-------------------------------\n",
            "loss: 1.940688  [    0/60000]\n",
            "loss: 1.935021  [ 6400/60000]\n",
            "loss: 1.936526  [12800/60000]\n",
            "loss: 2.020442  [19200/60000]\n",
            "loss: 1.926509  [25600/60000]\n",
            "loss: 1.988852  [32000/60000]\n",
            "loss: 1.954155  [38400/60000]\n",
            "loss: 1.944855  [44800/60000]\n",
            "loss: 1.981317  [51200/60000]\n",
            "loss: 2.056340  [57600/60000]\n",
            "Test Error: \n",
            " Accuracy: 35.2%, Avg loss: 0.029785 \n",
            "\n",
            "Epoch 9\n",
            "-------------------------------\n",
            "loss: 1.867879  [    0/60000]\n",
            "loss: 1.865626  [ 6400/60000]\n",
            "loss: 1.840172  [12800/60000]\n",
            "loss: 1.961261  [19200/60000]\n",
            "loss: 1.880444  [25600/60000]\n",
            "loss: 1.913440  [32000/60000]\n",
            "loss: 1.901584  [38400/60000]\n",
            "loss: 1.862024  [44800/60000]\n",
            "loss: 1.854997  [51200/60000]\n",
            "loss: 2.039263  [57600/60000]\n",
            "Test Error: \n",
            " Accuracy: 41.4%, Avg loss: 0.028744 \n",
            "\n",
            "Epoch 10\n",
            "-------------------------------\n",
            "loss: 1.746671  [    0/60000]\n",
            "loss: 1.772135  [ 6400/60000]\n",
            "loss: 1.725965  [12800/60000]\n",
            "loss: 1.908136  [19200/60000]\n",
            "loss: 1.840602  [25600/60000]\n",
            "loss: 1.850613  [32000/60000]\n",
            "loss: 1.861308  [38400/60000]\n",
            "loss: 1.808284  [44800/60000]\n",
            "loss: 1.784235  [51200/60000]\n",
            "loss: 2.020383  [57600/60000]\n",
            "Test Error: \n",
            " Accuracy: 43.8%, Avg loss: 0.028021 \n",
            "\n",
            "Done!\n"
          ],
          "name": "stdout"
        }
      ]
    },
    {
      "cell_type": "markdown",
      "metadata": {
        "id": "13e9e989"
      },
      "source": [
        "# Saving Models"
      ],
      "id": "13e9e989"
    },
    {
      "cell_type": "code",
      "metadata": {
        "colab": {
          "base_uri": "https://localhost:8080/"
        },
        "id": "fb5a3a85",
        "outputId": "390b8ed9-a371-40e8-b323-d2151294724a"
      },
      "source": [
        "torch.save(model.state_dict(), \"model.pth\")\n",
        "print(\"Saved PyTorch Model State to model.pth\")"
      ],
      "id": "fb5a3a85",
      "execution_count": 20,
      "outputs": [
        {
          "output_type": "stream",
          "text": [
            "Saved PyTorch Model State to model.pth\n"
          ],
          "name": "stdout"
        }
      ]
    },
    {
      "cell_type": "markdown",
      "metadata": {
        "id": "cfdd5e29"
      },
      "source": [
        "# Loading Models"
      ],
      "id": "cfdd5e29"
    },
    {
      "cell_type": "code",
      "metadata": {
        "colab": {
          "base_uri": "https://localhost:8080/"
        },
        "id": "b264a638",
        "outputId": "deb80795-e806-4f88-b764-46372aaa2f97"
      },
      "source": [
        "model = NeuralNetwork()\n",
        "model.load_state_dict(torch.load(\"model.pth\"))"
      ],
      "id": "b264a638",
      "execution_count": 21,
      "outputs": [
        {
          "output_type": "execute_result",
          "data": {
            "text/plain": [
              "<All keys matched successfully>"
            ]
          },
          "metadata": {
            "tags": []
          },
          "execution_count": 21
        }
      ]
    },
    {
      "cell_type": "markdown",
      "metadata": {
        "id": "882296a8"
      },
      "source": [
        "# Make Predictions"
      ],
      "id": "882296a8"
    },
    {
      "cell_type": "code",
      "metadata": {
        "colab": {
          "base_uri": "https://localhost:8080/"
        },
        "id": "c41ebb1e",
        "outputId": "c46c2ed5-8ef1-4bd7-ffa5-db5ca1bb76e5"
      },
      "source": [
        "classes = [\n",
        "    \"T-shirt/top\",\n",
        "    \"Trouser\",\n",
        "    \"Pullover\",\n",
        "    \"Dress\",\n",
        "    \"Coat\",\n",
        "    \"Sandal\",\n",
        "    \"Shirt\",\n",
        "    \"Sneaker\",\n",
        "    \"Bag\",\n",
        "    \"Ankle boot\",\n",
        "]\n",
        "\n",
        "model.eval()\n",
        "x, y = test_data[1][0], test_data[1][1]\n",
        "with torch.no_grad():\n",
        "    pred = model(x)\n",
        "    predicted, actual = classes[pred[0].argmax(0)], classes[y]\n",
        "    print(f'Predicted: \"{predicted}\", Actual: \"{actual}\"')"
      ],
      "id": "c41ebb1e",
      "execution_count": 26,
      "outputs": [
        {
          "output_type": "stream",
          "text": [
            "Predicted: \"Pullover\", Actual: \"Pullover\"\n"
          ],
          "name": "stdout"
        }
      ]
    },
    {
      "cell_type": "code",
      "metadata": {
        "id": "b8bc3ae2"
      },
      "source": [
        ""
      ],
      "id": "b8bc3ae2",
      "execution_count": 22,
      "outputs": []
    }
  ]
}